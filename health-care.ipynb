{
 "cells": [
  {
   "cell_type": "code",
   "execution_count": 3,
   "metadata": {
    "execution": {
     "iopub.execute_input": "2024-08-11T18:22:23.051246Z",
     "iopub.status.busy": "2024-08-11T18:22:23.050542Z",
     "iopub.status.idle": "2024-08-11T18:22:23.056868Z",
     "shell.execute_reply": "2024-08-11T18:22:23.055606Z",
     "shell.execute_reply.started": "2024-08-11T18:22:23.051210Z"
    },
    "id": "MFlef51fEf3H"
   },
   "outputs": [],
   "source": [
    "import pandas as pd\n",
    "import numpy as np\n",
    "import matplotlib.pyplot as plt\n",
    "import seaborn as sns\n",
    "import plotly.express as px\n",
    "import plotly.graph_objects as go\n",
    "\n",
    "import warnings\n",
    "warnings.filterwarnings('ignore')\n"
   ]
  },
  {
   "cell_type": "code",
   "execution_count": 4,
   "metadata": {
    "execution": {
     "iopub.execute_input": "2024-08-11T18:22:28.442061Z",
     "iopub.status.busy": "2024-08-11T18:22:28.441645Z",
     "iopub.status.idle": "2024-08-11T18:22:28.831304Z",
     "shell.execute_reply": "2024-08-11T18:22:28.830170Z",
     "shell.execute_reply.started": "2024-08-11T18:22:28.442025Z"
    },
    "id": "KXud9T9GEf3H"
   },
   "outputs": [],
   "source": [
    "df= pd.read_csv(\"C:\\Users\\hp\\Downloads\\Health_care\\healthcare_dataset.csv\")"
   ]
  },
  {
   "cell_type": "code",
   "execution_count": 5,
   "metadata": {
    "execution": {
     "iopub.execute_input": "2024-08-11T18:22:40.364401Z",
     "iopub.status.busy": "2024-08-11T18:22:40.363428Z",
     "iopub.status.idle": "2024-08-11T18:22:40.397584Z",
     "shell.execute_reply": "2024-08-11T18:22:40.396544Z",
     "shell.execute_reply.started": "2024-08-11T18:22:40.364361Z"
    },
    "id": "VmRFjeUZEf3I",
    "outputId": "1ffa66f0-b003-4757-eca9-0c987e478db6"
   },
   "outputs": [
    {
     "data": {
      "text/html": [
       "<div>\n",
       "<style scoped>\n",
       "    .dataframe tbody tr th:only-of-type {\n",
       "        vertical-align: middle;\n",
       "    }\n",
       "\n",
       "    .dataframe tbody tr th {\n",
       "        vertical-align: top;\n",
       "    }\n",
       "\n",
       "    .dataframe thead th {\n",
       "        text-align: right;\n",
       "    }\n",
       "</style>\n",
       "<table border=\"1\" class=\"dataframe\">\n",
       "  <thead>\n",
       "    <tr style=\"text-align: right;\">\n",
       "      <th></th>\n",
       "      <th>Name</th>\n",
       "      <th>Age</th>\n",
       "      <th>Gender</th>\n",
       "      <th>Blood Type</th>\n",
       "      <th>Medical Condition</th>\n",
       "      <th>Date of Admission</th>\n",
       "      <th>Doctor</th>\n",
       "      <th>Hospital</th>\n",
       "      <th>Insurance Provider</th>\n",
       "      <th>Billing Amount</th>\n",
       "      <th>Room Number</th>\n",
       "      <th>Admission Type</th>\n",
       "      <th>Discharge Date</th>\n",
       "      <th>Medication</th>\n",
       "      <th>Test Results</th>\n",
       "    </tr>\n",
       "  </thead>\n",
       "  <tbody>\n",
       "    <tr>\n",
       "      <th>0</th>\n",
       "      <td>Bobby JacksOn</td>\n",
       "      <td>30</td>\n",
       "      <td>Male</td>\n",
       "      <td>B-</td>\n",
       "      <td>Cancer</td>\n",
       "      <td>2024-01-31</td>\n",
       "      <td>Matthew Smith</td>\n",
       "      <td>Sons and Miller</td>\n",
       "      <td>Blue Cross</td>\n",
       "      <td>18856.281306</td>\n",
       "      <td>328</td>\n",
       "      <td>Urgent</td>\n",
       "      <td>2024-02-02</td>\n",
       "      <td>Paracetamol</td>\n",
       "      <td>Normal</td>\n",
       "    </tr>\n",
       "    <tr>\n",
       "      <th>1</th>\n",
       "      <td>LesLie TErRy</td>\n",
       "      <td>62</td>\n",
       "      <td>Male</td>\n",
       "      <td>A+</td>\n",
       "      <td>Obesity</td>\n",
       "      <td>2019-08-20</td>\n",
       "      <td>Samantha Davies</td>\n",
       "      <td>Kim Inc</td>\n",
       "      <td>Medicare</td>\n",
       "      <td>33643.327287</td>\n",
       "      <td>265</td>\n",
       "      <td>Emergency</td>\n",
       "      <td>2019-08-26</td>\n",
       "      <td>Ibuprofen</td>\n",
       "      <td>Inconclusive</td>\n",
       "    </tr>\n",
       "    <tr>\n",
       "      <th>2</th>\n",
       "      <td>DaNnY sMitH</td>\n",
       "      <td>76</td>\n",
       "      <td>Female</td>\n",
       "      <td>A-</td>\n",
       "      <td>Obesity</td>\n",
       "      <td>2022-09-22</td>\n",
       "      <td>Tiffany Mitchell</td>\n",
       "      <td>Cook PLC</td>\n",
       "      <td>Aetna</td>\n",
       "      <td>27955.096079</td>\n",
       "      <td>205</td>\n",
       "      <td>Emergency</td>\n",
       "      <td>2022-10-07</td>\n",
       "      <td>Aspirin</td>\n",
       "      <td>Normal</td>\n",
       "    </tr>\n",
       "    <tr>\n",
       "      <th>3</th>\n",
       "      <td>andrEw waTtS</td>\n",
       "      <td>28</td>\n",
       "      <td>Female</td>\n",
       "      <td>O+</td>\n",
       "      <td>Diabetes</td>\n",
       "      <td>2020-11-18</td>\n",
       "      <td>Kevin Wells</td>\n",
       "      <td>Hernandez Rogers and Vang,</td>\n",
       "      <td>Medicare</td>\n",
       "      <td>37909.782410</td>\n",
       "      <td>450</td>\n",
       "      <td>Elective</td>\n",
       "      <td>2020-12-18</td>\n",
       "      <td>Ibuprofen</td>\n",
       "      <td>Abnormal</td>\n",
       "    </tr>\n",
       "    <tr>\n",
       "      <th>4</th>\n",
       "      <td>adrIENNE bEll</td>\n",
       "      <td>43</td>\n",
       "      <td>Female</td>\n",
       "      <td>AB+</td>\n",
       "      <td>Cancer</td>\n",
       "      <td>2022-09-19</td>\n",
       "      <td>Kathleen Hanna</td>\n",
       "      <td>White-White</td>\n",
       "      <td>Aetna</td>\n",
       "      <td>14238.317814</td>\n",
       "      <td>458</td>\n",
       "      <td>Urgent</td>\n",
       "      <td>2022-10-09</td>\n",
       "      <td>Penicillin</td>\n",
       "      <td>Abnormal</td>\n",
       "    </tr>\n",
       "  </tbody>\n",
       "</table>\n",
       "</div>"
      ],
      "text/plain": [
       "            Name  Age  Gender Blood Type Medical Condition Date of Admission  \\\n",
       "0  Bobby JacksOn   30    Male         B-            Cancer        2024-01-31   \n",
       "1   LesLie TErRy   62    Male         A+           Obesity        2019-08-20   \n",
       "2    DaNnY sMitH   76  Female         A-           Obesity        2022-09-22   \n",
       "3   andrEw waTtS   28  Female         O+          Diabetes        2020-11-18   \n",
       "4  adrIENNE bEll   43  Female        AB+            Cancer        2022-09-19   \n",
       "\n",
       "             Doctor                    Hospital Insurance Provider  \\\n",
       "0     Matthew Smith             Sons and Miller         Blue Cross   \n",
       "1   Samantha Davies                     Kim Inc           Medicare   \n",
       "2  Tiffany Mitchell                    Cook PLC              Aetna   \n",
       "3       Kevin Wells  Hernandez Rogers and Vang,           Medicare   \n",
       "4    Kathleen Hanna                 White-White              Aetna   \n",
       "\n",
       "   Billing Amount  Room Number Admission Type Discharge Date   Medication  \\\n",
       "0    18856.281306          328         Urgent     2024-02-02  Paracetamol   \n",
       "1    33643.327287          265      Emergency     2019-08-26    Ibuprofen   \n",
       "2    27955.096079          205      Emergency     2022-10-07      Aspirin   \n",
       "3    37909.782410          450       Elective     2020-12-18    Ibuprofen   \n",
       "4    14238.317814          458         Urgent     2022-10-09   Penicillin   \n",
       "\n",
       "   Test Results  \n",
       "0        Normal  \n",
       "1  Inconclusive  \n",
       "2        Normal  \n",
       "3      Abnormal  \n",
       "4      Abnormal  "
      ]
     },
     "execution_count": 5,
     "metadata": {},
     "output_type": "execute_result"
    }
   ],
   "source": [
    "df.head()"
   ]
  },
  {
   "cell_type": "code",
   "execution_count": 6,
   "metadata": {
    "execution": {
     "iopub.execute_input": "2024-08-11T18:22:54.060996Z",
     "iopub.status.busy": "2024-08-11T18:22:54.060596Z",
     "iopub.status.idle": "2024-08-11T18:22:54.078886Z",
     "shell.execute_reply": "2024-08-11T18:22:54.077841Z",
     "shell.execute_reply.started": "2024-08-11T18:22:54.060964Z"
    },
    "id": "hh7szGJjEf3J",
    "outputId": "f9b33735-dfb7-4c5f-e1c9-a5f4e269af1f"
   },
   "outputs": [
    {
     "data": {
      "text/html": [
       "<div>\n",
       "<style scoped>\n",
       "    .dataframe tbody tr th:only-of-type {\n",
       "        vertical-align: middle;\n",
       "    }\n",
       "\n",
       "    .dataframe tbody tr th {\n",
       "        vertical-align: top;\n",
       "    }\n",
       "\n",
       "    .dataframe thead th {\n",
       "        text-align: right;\n",
       "    }\n",
       "</style>\n",
       "<table border=\"1\" class=\"dataframe\">\n",
       "  <thead>\n",
       "    <tr style=\"text-align: right;\">\n",
       "      <th></th>\n",
       "      <th>Name</th>\n",
       "      <th>Age</th>\n",
       "      <th>Gender</th>\n",
       "      <th>Blood Type</th>\n",
       "      <th>Medical Condition</th>\n",
       "      <th>Date of Admission</th>\n",
       "      <th>Doctor</th>\n",
       "      <th>Hospital</th>\n",
       "      <th>Insurance Provider</th>\n",
       "      <th>Billing Amount</th>\n",
       "      <th>Room Number</th>\n",
       "      <th>Admission Type</th>\n",
       "      <th>Discharge Date</th>\n",
       "      <th>Medication</th>\n",
       "      <th>Test Results</th>\n",
       "    </tr>\n",
       "  </thead>\n",
       "  <tbody>\n",
       "    <tr>\n",
       "      <th>55495</th>\n",
       "      <td>eLIZABeTH jaCkSOn</td>\n",
       "      <td>42</td>\n",
       "      <td>Female</td>\n",
       "      <td>O+</td>\n",
       "      <td>Asthma</td>\n",
       "      <td>2020-08-16</td>\n",
       "      <td>Joshua Jarvis</td>\n",
       "      <td>Jones-Thompson</td>\n",
       "      <td>Blue Cross</td>\n",
       "      <td>2650.714952</td>\n",
       "      <td>417</td>\n",
       "      <td>Elective</td>\n",
       "      <td>2020-09-15</td>\n",
       "      <td>Penicillin</td>\n",
       "      <td>Abnormal</td>\n",
       "    </tr>\n",
       "    <tr>\n",
       "      <th>55496</th>\n",
       "      <td>KYle pEREz</td>\n",
       "      <td>61</td>\n",
       "      <td>Female</td>\n",
       "      <td>AB-</td>\n",
       "      <td>Obesity</td>\n",
       "      <td>2020-01-23</td>\n",
       "      <td>Taylor Sullivan</td>\n",
       "      <td>Tucker-Moyer</td>\n",
       "      <td>Cigna</td>\n",
       "      <td>31457.797307</td>\n",
       "      <td>316</td>\n",
       "      <td>Elective</td>\n",
       "      <td>2020-02-01</td>\n",
       "      <td>Aspirin</td>\n",
       "      <td>Normal</td>\n",
       "    </tr>\n",
       "    <tr>\n",
       "      <th>55497</th>\n",
       "      <td>HEATher WaNG</td>\n",
       "      <td>38</td>\n",
       "      <td>Female</td>\n",
       "      <td>B+</td>\n",
       "      <td>Hypertension</td>\n",
       "      <td>2020-07-13</td>\n",
       "      <td>Joe Jacobs DVM</td>\n",
       "      <td>and Mahoney Johnson Vasquez,</td>\n",
       "      <td>UnitedHealthcare</td>\n",
       "      <td>27620.764717</td>\n",
       "      <td>347</td>\n",
       "      <td>Urgent</td>\n",
       "      <td>2020-08-10</td>\n",
       "      <td>Ibuprofen</td>\n",
       "      <td>Abnormal</td>\n",
       "    </tr>\n",
       "    <tr>\n",
       "      <th>55498</th>\n",
       "      <td>JENniFER JOneS</td>\n",
       "      <td>43</td>\n",
       "      <td>Male</td>\n",
       "      <td>O-</td>\n",
       "      <td>Arthritis</td>\n",
       "      <td>2019-05-25</td>\n",
       "      <td>Kimberly Curry</td>\n",
       "      <td>Jackson Todd and Castro,</td>\n",
       "      <td>Medicare</td>\n",
       "      <td>32451.092358</td>\n",
       "      <td>321</td>\n",
       "      <td>Elective</td>\n",
       "      <td>2019-05-31</td>\n",
       "      <td>Ibuprofen</td>\n",
       "      <td>Abnormal</td>\n",
       "    </tr>\n",
       "    <tr>\n",
       "      <th>55499</th>\n",
       "      <td>jAMES GARCiA</td>\n",
       "      <td>53</td>\n",
       "      <td>Female</td>\n",
       "      <td>O+</td>\n",
       "      <td>Arthritis</td>\n",
       "      <td>2024-04-02</td>\n",
       "      <td>Dennis Warren</td>\n",
       "      <td>Henry Sons and</td>\n",
       "      <td>Aetna</td>\n",
       "      <td>4010.134172</td>\n",
       "      <td>448</td>\n",
       "      <td>Urgent</td>\n",
       "      <td>2024-04-29</td>\n",
       "      <td>Ibuprofen</td>\n",
       "      <td>Abnormal</td>\n",
       "    </tr>\n",
       "  </tbody>\n",
       "</table>\n",
       "</div>"
      ],
      "text/plain": [
       "                    Name  Age  Gender Blood Type Medical Condition  \\\n",
       "55495  eLIZABeTH jaCkSOn   42  Female         O+            Asthma   \n",
       "55496         KYle pEREz   61  Female        AB-           Obesity   \n",
       "55497       HEATher WaNG   38  Female         B+      Hypertension   \n",
       "55498     JENniFER JOneS   43    Male         O-         Arthritis   \n",
       "55499       jAMES GARCiA   53  Female         O+         Arthritis   \n",
       "\n",
       "      Date of Admission           Doctor                      Hospital  \\\n",
       "55495        2020-08-16    Joshua Jarvis                Jones-Thompson   \n",
       "55496        2020-01-23  Taylor Sullivan                  Tucker-Moyer   \n",
       "55497        2020-07-13   Joe Jacobs DVM  and Mahoney Johnson Vasquez,   \n",
       "55498        2019-05-25   Kimberly Curry      Jackson Todd and Castro,   \n",
       "55499        2024-04-02    Dennis Warren                Henry Sons and   \n",
       "\n",
       "      Insurance Provider  Billing Amount  Room Number Admission Type  \\\n",
       "55495         Blue Cross     2650.714952          417       Elective   \n",
       "55496              Cigna    31457.797307          316       Elective   \n",
       "55497   UnitedHealthcare    27620.764717          347         Urgent   \n",
       "55498           Medicare    32451.092358          321       Elective   \n",
       "55499              Aetna     4010.134172          448         Urgent   \n",
       "\n",
       "      Discharge Date  Medication Test Results  \n",
       "55495     2020-09-15  Penicillin     Abnormal  \n",
       "55496     2020-02-01     Aspirin       Normal  \n",
       "55497     2020-08-10   Ibuprofen     Abnormal  \n",
       "55498     2019-05-31   Ibuprofen     Abnormal  \n",
       "55499     2024-04-29   Ibuprofen     Abnormal  "
      ]
     },
     "execution_count": 6,
     "metadata": {},
     "output_type": "execute_result"
    }
   ],
   "source": [
    "df.tail()"
   ]
  },
  {
   "cell_type": "code",
   "execution_count": null,
   "metadata": {
    "execution": {
     "iopub.execute_input": "2024-05-11T08:31:46.035462Z",
     "iopub.status.busy": "2024-05-11T08:31:46.035127Z",
     "iopub.status.idle": "2024-05-11T08:31:46.042864Z",
     "shell.execute_reply": "2024-05-11T08:31:46.041327Z",
     "shell.execute_reply.started": "2024-05-11T08:31:46.035434Z"
    },
    "id": "etLH6k_FEf3J",
    "outputId": "3bb3fea9-cbba-4e49-fe39-030ab46de5b8"
   },
   "outputs": [],
   "source": [
    "#Check the shape of data\n",
    "print(f'The Training Dataset has {df.shape[0]} rows and {df.shape[1]} columns.')"
   ]
  },
  {
   "cell_type": "code",
   "execution_count": null,
   "metadata": {
    "execution": {
     "iopub.execute_input": "2024-05-11T08:31:46.044432Z",
     "iopub.status.busy": "2024-05-11T08:31:46.044103Z",
     "iopub.status.idle": "2024-05-11T08:31:46.133685Z",
     "shell.execute_reply": "2024-05-11T08:31:46.132464Z",
     "shell.execute_reply.started": "2024-05-11T08:31:46.044405Z"
    },
    "id": "6UjGTwpHEf3J",
    "outputId": "fba4e82c-8ca4-4ca4-a1a4-c32cb3aab095"
   },
   "outputs": [],
   "source": [
    "df.info()"
   ]
  },
  {
   "cell_type": "code",
   "execution_count": null,
   "metadata": {
    "id": "mESyPtG1FmDV",
    "outputId": "ebb5f8e8-9c4f-4ea5-c3f9-5e1676e4f0a2"
   },
   "outputs": [],
   "source": [
    "df.isnull().sum()"
   ]
  },
  {
   "cell_type": "code",
   "execution_count": null,
   "metadata": {
    "id": "kGz8EiIrLkLJ",
    "outputId": "1bf2bcac-e87a-4187-c52b-19977dff7bcb"
   },
   "outputs": [],
   "source": [
    "# Convert the 'Name' column to lowercase\n",
    "df['Name'] = df['Name'].str.lower()\n",
    "\n",
    "# Display the updated DataFrame\n",
    "df.head()\n"
   ]
  },
  {
   "cell_type": "code",
   "execution_count": null,
   "metadata": {
    "execution": {
     "iopub.execute_input": "2024-05-11T08:31:46.163655Z",
     "iopub.status.busy": "2024-05-11T08:31:46.163301Z",
     "iopub.status.idle": "2024-05-11T08:31:46.206614Z",
     "shell.execute_reply": "2024-05-11T08:31:46.205664Z",
     "shell.execute_reply.started": "2024-05-11T08:31:46.163598Z"
    },
    "id": "dVLFBTrJEf3K"
   },
   "outputs": [],
   "source": [
    "# Assuming df is your DataFrame and 'Date of Admission' and 'Discharge Date' are the column names\n",
    "df['Date of Admission'] = pd.to_datetime(df['Date of Admission'])\n",
    "df['Discharge Date'] = pd.to_datetime(df['Discharge Date'])\n",
    "\n",
    "\n",
    "# Now 'Date of Admission' and 'Discharge Date' columns are converted to datetime format\n"
   ]
  },
  {
   "cell_type": "code",
   "execution_count": null,
   "metadata": {
    "id": "rx7AEw06Tz7v",
    "outputId": "e908499d-8145-4d2d-b2df-38e71136ccaa"
   },
   "outputs": [],
   "source": [
    "df.describe()"
   ]
  },
  {
   "cell_type": "code",
   "execution_count": null,
   "metadata": {
    "execution": {
     "iopub.execute_input": "2024-05-11T08:31:46.209911Z",
     "iopub.status.busy": "2024-05-11T08:31:46.207787Z",
     "iopub.status.idle": "2024-05-11T08:31:46.248979Z",
     "shell.execute_reply": "2024-05-11T08:31:46.247813Z",
     "shell.execute_reply.started": "2024-05-11T08:31:46.209879Z"
    },
    "id": "8_HmjiKGEf3K",
    "outputId": "aead5f99-3760-4484-f680-8810a9f6ac48"
   },
   "outputs": [],
   "source": [
    "df.describe(include= \"object\").T"
   ]
  },
  {
   "cell_type": "code",
   "execution_count": null,
   "metadata": {
    "execution": {
     "iopub.execute_input": "2024-05-11T08:31:46.250496Z",
     "iopub.status.busy": "2024-05-11T08:31:46.250167Z",
     "iopub.status.idle": "2024-05-11T08:31:46.267867Z",
     "shell.execute_reply": "2024-05-11T08:31:46.266643Z",
     "shell.execute_reply.started": "2024-05-11T08:31:46.250467Z"
    },
    "id": "L9A7VUo8Ef3L",
    "outputId": "90b41c24-f204-4431-f530-8f281adfb5c8"
   },
   "outputs": [],
   "source": [
    "# Categorical columns\n",
    "df['Gender'].value_counts()"
   ]
  },
  {
   "cell_type": "code",
   "execution_count": null,
   "metadata": {
    "execution": {
     "iopub.execute_input": "2024-05-11T08:31:46.27143Z",
     "iopub.status.busy": "2024-05-11T08:31:46.271118Z",
     "iopub.status.idle": "2024-05-11T08:31:46.287283Z",
     "shell.execute_reply": "2024-05-11T08:31:46.286019Z",
     "shell.execute_reply.started": "2024-05-11T08:31:46.271403Z"
    },
    "id": "iYK3ioZPEf3L",
    "outputId": "f42b8469-3e08-4810-8504-15decd6ac798"
   },
   "outputs": [],
   "source": [
    "print(df['Blood Type'].value_counts())"
   ]
  },
  {
   "cell_type": "code",
   "execution_count": null,
   "metadata": {
    "execution": {
     "iopub.execute_input": "2024-05-11T08:31:46.28933Z",
     "iopub.status.busy": "2024-05-11T08:31:46.288889Z",
     "iopub.status.idle": "2024-05-11T08:31:46.310986Z",
     "shell.execute_reply": "2024-05-11T08:31:46.309683Z",
     "shell.execute_reply.started": "2024-05-11T08:31:46.289292Z"
    },
    "id": "XY0uJpHuEf3L",
    "outputId": "205aa287-ba03-4bad-d214-b7c4b384f088"
   },
   "outputs": [],
   "source": [
    "print(df['Admission Type'].value_counts())\n"
   ]
  },
  {
   "cell_type": "code",
   "execution_count": null,
   "metadata": {
    "execution": {
     "iopub.execute_input": "2024-05-11T08:34:32.001298Z",
     "iopub.status.busy": "2024-05-11T08:34:32.000856Z",
     "iopub.status.idle": "2024-05-11T08:34:32.016512Z",
     "shell.execute_reply": "2024-05-11T08:34:32.01535Z",
     "shell.execute_reply.started": "2024-05-11T08:34:32.001262Z"
    },
    "id": "0H22FlO1Ef3L",
    "outputId": "5a7cbe95-c872-4aa5-8dbf-85e21139cb1a"
   },
   "outputs": [],
   "source": [
    "print(df['Insurance Provider'].value_counts())"
   ]
  },
  {
   "cell_type": "code",
   "execution_count": null,
   "metadata": {
    "id": "YhBe3M4zU3XC",
    "outputId": "1a889e6a-b246-434d-efda-26e2cd0daf1d"
   },
   "outputs": [],
   "source": [
    "print(df['Doctor'].value_counts().sum())"
   ]
  },
  {
   "cell_type": "code",
   "execution_count": null,
   "metadata": {
    "id": "7gaR91cQUr8n",
    "outputId": "8ba49e94-1f87-4fe4-dcdc-2113ccdbcf3a"
   },
   "outputs": [],
   "source": [
    "# Test results analysis\n",
    "print(df['Test Results'].value_counts())\n"
   ]
  },
  {
   "cell_type": "code",
   "execution_count": null,
   "metadata": {
    "execution": {
     "iopub.execute_input": "2024-05-11T08:31:46.31312Z",
     "iopub.status.busy": "2024-05-11T08:31:46.312707Z",
     "iopub.status.idle": "2024-05-11T08:31:46.324152Z",
     "shell.execute_reply": "2024-05-11T08:31:46.322759Z",
     "shell.execute_reply.started": "2024-05-11T08:31:46.313083Z"
    },
    "id": "vV1oYaxUEf3M",
    "outputId": "3833e100-c6ef-4819-c346-ccc947aa313e"
   },
   "outputs": [],
   "source": [
    "df.columns"
   ]
  },
  {
   "cell_type": "code",
   "execution_count": null,
   "metadata": {
    "id": "j1JyFsN_3opT",
    "outputId": "055321a7-d194-4992-8bd4-919af849d5e5"
   },
   "outputs": [],
   "source": [
    "# Plot histogram for the 'Age' column\n",
    "fig = px.histogram(df, x='Age', title='Age Distribution', nbins=30)\n",
    "fig.show()\n"
   ]
  },
  {
   "cell_type": "code",
   "execution_count": null,
   "metadata": {
    "execution": {
     "iopub.execute_input": "2024-05-11T08:38:36.277704Z",
     "iopub.status.busy": "2024-05-11T08:38:36.277279Z",
     "iopub.status.idle": "2024-05-11T08:38:36.615798Z",
     "shell.execute_reply": "2024-05-11T08:38:36.61472Z",
     "shell.execute_reply.started": "2024-05-11T08:38:36.277673Z"
    },
    "id": "pFDH3heTEf3M",
    "outputId": "e31d0557-486f-4ace-986d-ead105c8e1d3"
   },
   "outputs": [],
   "source": [
    "\n",
    "# Define object-type columns\n",
    "object_columns = ['Gender', 'Blood Type', 'Medical Condition', 'Admission Type', 'Insurance Provider', \"Medication\", 'Test Results']\n",
    "\n",
    "# Define pastel color palette\n",
    "pastel_palette = px.colors.qualitative.Pastel\n",
    "\n",
    "# Plotly plots for object-type columns\n",
    "for col in object_columns:\n",
    "    fig = go.Figure()\n",
    "    for i, (category, count) in enumerate(df[col].value_counts().items()):\n",
    "        fig.add_trace(go.Bar(x=[col], y=[count], name=category, marker_color=pastel_palette[i]))\n",
    "    fig.update_layout(title=f'Distribution of {col}', xaxis_title=col, yaxis_title='Count')\n",
    "    fig.show()\n"
   ]
  },
  {
   "cell_type": "code",
   "execution_count": null,
   "metadata": {
    "id": "X_zwS2GHEf3M",
    "outputId": "24ecbebb-5c4f-45a5-ff72-841004e66d02"
   },
   "outputs": [],
   "source": [
    "# Group 'Age' by 'Medical Condition' and calculate the mean age for each condition\n",
    "age_by_condition = df.groupby('Medical Condition')['Age'].mean().reset_index()\n",
    "\n",
    "# Plot using Plotly Express with different color palettes\n",
    "fig = px.bar(age_by_condition, x='Medical Condition', y='Age', color='Medical Condition',\n",
    "             title='Average Age by Medical Condition',\n",
    "             labels={'Age': 'Average Age', 'Medical Condition': 'Medical Condition'},\n",
    "             color_discrete_sequence=px.colors.qualitative.Pastel)\n",
    "fig.show()\n"
   ]
  },
  {
   "cell_type": "code",
   "execution_count": null,
   "metadata": {
    "id": "RAOOJY-DyJIG",
    "outputId": "5fd90f04-bd83-4b13-e484-8860ba6afd2b"
   },
   "outputs": [],
   "source": [
    "# Group by 'Medical Condition' and 'Medication' and calculate the count for each combination\n",
    "grouped_df = df.groupby(['Medical Condition', 'Medication']).size().reset_index(name='Count')\n",
    "\n",
    "# Plot using Plotly Express\n",
    "fig = px.bar(grouped_df, x='Medical Condition', y='Count', color='Medication', barmode='group',\n",
    "             title='Medication Distribution by Medical Condition',\n",
    "             labels={'Count': 'Count', 'Medical Condition': 'Medical Condition', 'Medication': 'Medication'})\n",
    "fig.show()\n"
   ]
  },
  {
   "cell_type": "code",
   "execution_count": null,
   "metadata": {
    "id": "683bBKVLE8F3",
    "outputId": "74cd16e6-7cda-4795-813a-4682bac889b4"
   },
   "outputs": [],
   "source": [
    "# Group 'Sex' by 'Medical Condition' and calculate the count for each combination\n",
    "sex_by_condition = df.groupby(['Medical Condition', 'Gender']).size().reset_index(name='Count')\n",
    "\n",
    "# Plot using Plotly Express with different color palettes\n",
    "fig = px.bar(sex_by_condition, x='Medical Condition', y='Count', color='Gender',\n",
    "             title='Patient Count by Gender and Medical Condition',\n",
    "             labels={'Count': 'Patient Count', 'Medical Condition': 'Medical Condition', 'Gender': 'Gender'},\n",
    "             color_discrete_sequence=px.colors.qualitative.Pastel)\n",
    "fig.show()\n"
   ]
  },
  {
   "cell_type": "code",
   "execution_count": null,
   "metadata": {
    "id": "AfG0KuK3kqx2",
    "outputId": "dc7e112f-1ec6-4272-cb57-b67a647db8c5"
   },
   "outputs": [],
   "source": [
    "# Group by 'Blood Type' and 'Medical Condition' and calculate the count for each combination\n",
    "grouped_df = df.groupby(['Blood Type', 'Medical Condition']).size().reset_index(name='Count')\n",
    "\n",
    "# Plot using Plotly Express\n",
    "fig = px.bar(grouped_df, x='Blood Type', y='Count', color='Medical Condition', barmode='group',\n",
    "             title='Patient Count by Blood Type and Medical Condition',\n",
    "             labels={'Count': 'Patient Count', 'Blood Type': 'Blood Type', 'Medical Condition': 'Medical Condition'})\n",
    "fig.show()\n"
   ]
  },
  {
   "cell_type": "code",
   "execution_count": null,
   "metadata": {
    "id": "0SObMeBgm4gn",
    "outputId": "a59eb86b-a86d-4b55-934b-57d4c910c6b9"
   },
   "outputs": [],
   "source": [
    "# Group by 'Blood Type' and 'Gender' and calculate the count for each combination\n",
    "grouped_df = df.groupby(['Blood Type', 'Gender']).size().reset_index(name='Count')\n",
    "\n",
    "# Plot using Plotly Express\n",
    "fig = px.bar(grouped_df, x='Blood Type', y='Count', color='Gender', barmode='group',\n",
    "             title='Patient Count by Blood Type and Gender',\n",
    "             labels={'Count': 'Patient Count', 'Blood Type': 'Blood Type', 'Gender': 'Gender'})\n",
    "fig.show()\n"
   ]
  },
  {
   "cell_type": "code",
   "execution_count": null,
   "metadata": {
    "id": "TVajdxwxnX45",
    "outputId": "a6e10655-ccd5-49d2-df27-d748c17c31e9"
   },
   "outputs": [],
   "source": [
    "# Group by 'Admission Type' and 'Gender' and calculate the count for each combination\n",
    "grouped_df = df.groupby(['Admission Type', 'Gender']).size().reset_index(name='Count')\n",
    "\n",
    "# Plot using Plotly Express\n",
    "fig = px.bar(grouped_df, x='Admission Type', y='Count', color='Gender', barmode='group',\n",
    "             title='Patient Count by Admission Type and Gender',\n",
    "             labels={'Count': 'Patient Count', 'Admission Type': 'Admission Type', 'Gender': 'Gender'})\n",
    "fig.show()\n"
   ]
  },
  {
   "cell_type": "code",
   "execution_count": null,
   "metadata": {
    "id": "Hxde2mcLnyCQ",
    "outputId": "1506e195-d833-4968-a07e-b34544709756"
   },
   "outputs": [],
   "source": [
    "# Group by 'Admission Type' and 'Medical Condition' and calculate the count for each combination\n",
    "grouped_df = df.groupby(['Admission Type', 'Medical Condition']).size().reset_index(name='Count')\n",
    "\n",
    "# Plot using Plotly Express\n",
    "fig = px.bar(grouped_df, x='Admission Type', y='Count', color='Medical Condition', barmode='group',\n",
    "             title='Patient Count by Admission Type and Medical Condition',\n",
    "             labels={'Count': 'Patient Count', 'Admission Type': 'Admission Type', 'Medical Condition': 'Medical Condition'})\n",
    "fig.show()\n"
   ]
  },
  {
   "cell_type": "code",
   "execution_count": null,
   "metadata": {
    "id": "nZl7azh5yhlv",
    "outputId": "3288d36a-e004-4a2f-deeb-8556fe9efbbc"
   },
   "outputs": [],
   "source": [
    "# Group by 'Test Results' and 'Admission Type' and calculate the count for each combination\n",
    "grouped_df = df.groupby(['Test Results', 'Admission Type']).size().reset_index(name='Count')\n",
    "\n",
    "# Plot using Plotly Express\n",
    "fig = px.bar(grouped_df, x='Test Results', y='Count', color='Admission Type', barmode='group',\n",
    "             title='Test Results Distribution by Admission Type',\n",
    "             labels={'Count': 'Count', 'Test Results': 'Test Results', 'Admission Type': 'Admission Type'})\n",
    "fig.show()\n"
   ]
  },
  {
   "cell_type": "code",
   "execution_count": null,
   "metadata": {
    "id": "O_TrC1snzRN4",
    "outputId": "5cee1d43-1c65-4b2d-df5b-43b461b00b3d"
   },
   "outputs": [],
   "source": [
    "# Group by 'Medication' and 'Gender' and calculate the count for each combination\n",
    "grouped_df = df.groupby(['Medication', 'Gender']).size().reset_index(name='Count')\n",
    "\n",
    "# Plot using Plotly Express\n",
    "fig = px.bar(grouped_df, x='Medication', y='Count', color='Gender', barmode='group',\n",
    "             title='Medication Distribution by Gender',\n",
    "             labels={'Count': 'Count', 'Medication': 'Medication', 'Gender': 'Gender'})\n",
    "fig.show()\n"
   ]
  },
  {
   "cell_type": "code",
   "execution_count": null,
   "metadata": {
    "id": "ksNHhLf2_uXq",
    "outputId": "9b9973df-b95c-4e96-98fa-57454d5e4e06"
   },
   "outputs": [],
   "source": [
    "most_common_blood_type = df['Blood Type'].value_counts().idxmax()\n",
    "print(f\"The most common blood type among the patients is {most_common_blood_type}.\")\n"
   ]
  },
  {
   "cell_type": "code",
   "execution_count": null,
   "metadata": {
    "id": "zy2u5CCpBg0O",
    "outputId": "eb8030c3-8b76-45e9-8215-1e3a2b13ba92"
   },
   "outputs": [],
   "source": [
    "unique_hospitals = df['Hospital'].nunique()\n",
    "print(f\"There are {unique_hospitals} unique hospitals included in the dataset.\")\n"
   ]
  },
  {
   "cell_type": "code",
   "execution_count": null,
   "metadata": {
    "id": "RUob-vxfBkZ6",
    "outputId": "313e458c-9d38-487a-e4af-9cecd9ffa79f"
   },
   "outputs": [],
   "source": [
    "oldest_patient_age = df['Age'].max()\n",
    "oldest_patient_name = df[df['Age'] == oldest_patient_age]['Name'].iloc[0]\n",
    "print(f\"The oldest patient in the dataset is {oldest_patient_name} with an age of {oldest_patient_age} years.\")\n"
   ]
  },
  {
   "cell_type": "code",
   "execution_count": null,
   "metadata": {
    "id": "VjPIoesaBoj3",
    "outputId": "299b1dc2-e66a-463c-b491-7d7adb421ac5"
   },
   "outputs": [],
   "source": [
    "doctor_highest_patient_count = df['Doctor'].value_counts().idxmax()\n",
    "print(f\"The doctor who has treated the highest number of patients is {doctor_highest_patient_count}.\")\n"
   ]
  },
  {
   "cell_type": "code",
   "execution_count": null,
   "metadata": {
    "id": "ifdHBQJtBsW4",
    "outputId": "2cee4d73-209c-4571-f4e8-f31abbe1b0f1"
   },
   "outputs": [],
   "source": [
    "most_frequent_medication = df['Medication'].value_counts().idxmax()\n",
    "print(f\"The most frequently prescribed medication is {most_frequent_medication}.\")\n"
   ]
  },
  {
   "cell_type": "code",
   "execution_count": null,
   "metadata": {
    "id": "BFNvYU3SBv69",
    "outputId": "4c37c51e-5480-4140-eacb-65f9d743f067"
   },
   "outputs": [],
   "source": [
    "# Calculate monthly admissions\n",
    "monthly_admissions = df['Date of Admission'].dt.month.value_counts().sort_index()\n",
    "\n",
    "# Create a DataFrame\n",
    "monthly_admissions_df = pd.DataFrame({'Month': monthly_admissions.index, 'Admissions': monthly_admissions.values})\n",
    "\n",
    "# Plot the trend using Plotly Express\n",
    "fig = px.line(monthly_admissions_df, x='Month', y='Admissions', title='Monthly Admissions Trend')\n",
    "fig.update_xaxes(title='Month')\n",
    "fig.update_yaxes(title='Number of Admissions')\n",
    "fig.show()\n"
   ]
  },
  {
   "cell_type": "code",
   "execution_count": null,
   "metadata": {
    "id": "CNlfoky_By7a",
    "outputId": "dea2c24c-fa39-44f4-df4b-a5d29e007be8"
   },
   "outputs": [],
   "source": [
    "average_billing_amount = df['Billing Amount'].mean()\n",
    "print(f\"The average billing amount for patients is ${average_billing_amount:.2f}.\")\n"
   ]
  },
  {
   "cell_type": "code",
   "execution_count": null,
   "metadata": {
    "id": "SKz3VF1_B_5Z",
    "outputId": "b2ea2eb1-0d07-49a9-cd03-d7349f80b0d2"
   },
   "outputs": [],
   "source": [
    "male_patients = df[df['Gender'] == 'Male'].shape[0]\n",
    "female_patients = df[df['Gender'] == 'Female'].shape[0]\n",
    "print(f\"There are {male_patients} Male patients and {female_patients} Female patients.\")\n"
   ]
  },
  {
   "cell_type": "code",
   "execution_count": null,
   "metadata": {
    "id": "fV25eUrACEGZ",
    "outputId": "a81a8227-dc78-4836-a0e3-374befb569b4"
   },
   "outputs": [],
   "source": [
    "top_three_medical_conditions = df['Medical Condition'].value_counts().head(3)\n",
    "print(\"Top Three Most Common Medical Conditions:\")\n",
    "print(\"----------------------------------------\")\n",
    "print(top_three_medical_conditions)\n"
   ]
  }
 ],
 "metadata": {
  "colab": {
   "name": "HealthCare Data Analysis",
   "provenance": []
  },
  "kaggle": {
   "accelerator": "none",
   "dataSources": [
    {
     "datasetId": 3934836,
     "sourceId": 8356547,
     "sourceType": "datasetVersion"
    }
   ],
   "dockerImageVersionId": 30698,
   "isGpuEnabled": false,
   "isInternetEnabled": false,
   "language": "python",
   "sourceType": "notebook"
  },
  "kernelspec": {
   "display_name": "Python 3 (ipykernel)",
   "language": "python",
   "name": "python3"
  },
  "language_info": {
   "codemirror_mode": {
    "name": "ipython",
    "version": 3
   },
   "file_extension": ".py",
   "mimetype": "text/x-python",
   "name": "python",
   "nbconvert_exporter": "python",
   "pygments_lexer": "ipython3",
   "version": "3.11.7"
  }
 },
 "nbformat": 4,
 "nbformat_minor": 4
}
